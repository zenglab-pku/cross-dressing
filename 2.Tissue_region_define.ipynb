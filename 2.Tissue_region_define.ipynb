{
 "cells": [
  {
   "cell_type": "code",
   "execution_count": 1,
   "id": "7c3321fc-2c65-4001-8bf2-b63b67adc897",
   "metadata": {
    "execution": {
     "iopub.execute_input": "2025-07-06T05:06:21.187762Z",
     "iopub.status.busy": "2025-07-06T05:06:21.187026Z",
     "iopub.status.idle": "2025-07-06T05:06:30.063067Z",
     "shell.execute_reply": "2025-07-06T05:06:30.061161Z",
     "shell.execute_reply.started": "2025-07-06T05:06:21.187698Z"
    }
   },
   "outputs": [],
   "source": [
    "import warnings\n",
    "import matplotlib.pyplot as plt\n",
    "import numpy as np\n",
    "import pandas as pd\n",
    "import scanpy as sc\n",
    "import seaborn as sns\n",
    "warnings.filterwarnings(\"ignore\", category=FutureWarning)\n",
    "warnings.filterwarnings(\"ignore\", category=UserWarning)\n",
    "sc.settings.verbosity = 3\n",
    "import numpy as np\n",
    "import matplotlib.pyplot as plt\n",
    "from scipy.stats import shapiro, norm\n",
    "import os\n",
    "\n",
    "%config InlineBackend.figure_format='retina'\n",
    "%matplotlib inline\n",
    "plt.rcParams['figure.figsize']=(7,4)\n"
   ]
  },
  {
   "cell_type": "code",
   "execution_count": null,
   "id": "67fb73de-090c-42e3-a172-0b4751fc7bdc",
   "metadata": {},
   "outputs": [],
   "source": []
  },
  {
   "cell_type": "code",
   "execution_count": null,
   "id": "a27924fb-7599-43bf-a073-918096368125",
   "metadata": {},
   "outputs": [],
   "source": []
  },
  {
   "cell_type": "code",
   "execution_count": null,
   "id": "a1ce2a79-95c9-43f2-8ee2-ec9aed806859",
   "metadata": {},
   "outputs": [],
   "source": []
  },
  {
   "cell_type": "markdown",
   "id": "286f1661-caf5-4720-bfcd-fc1826edcd5f",
   "metadata": {},
   "source": [
    "# Import files"
   ]
  },
  {
   "cell_type": "code",
   "execution_count": 2,
   "id": "a3b4ce08-dd5e-4ccf-a024-9491ed110ef4",
   "metadata": {
    "execution": {
     "iopub.execute_input": "2025-01-04T08:21:56.313969Z",
     "iopub.status.busy": "2025-01-04T08:21:56.312809Z",
     "iopub.status.idle": "2025-01-04T08:23:23.687567Z",
     "shell.execute_reply": "2025-01-04T08:23:23.686780Z",
     "shell.execute_reply.started": "2025-01-04T08:21:56.313901Z"
    }
   },
   "outputs": [],
   "source": [
    "adata = sc.read_h5ad('./xxx.h5ad')\n"
   ]
  },
  {
   "cell_type": "code",
   "execution_count": null,
   "id": "e3eaaafa-3a90-49ce-a680-99652b59c77c",
   "metadata": {},
   "outputs": [],
   "source": []
  },
  {
   "cell_type": "code",
   "execution_count": null,
   "id": "aa2ce1a5-d5b4-4a98-b5a9-d7491e49d9b2",
   "metadata": {},
   "outputs": [],
   "source": []
  },
  {
   "cell_type": "markdown",
   "id": "88efdb9d-97a7-4ff3-b345-168957cc3a1b",
   "metadata": {},
   "source": [
    "# Cells neighboring (<=100um) tumor clusters are defined as peri-tumor "
   ]
  },
  {
   "cell_type": "code",
   "execution_count": 1,
   "id": "98559ba9-dd0b-4718-a9e8-54cb3d1f48ec",
   "metadata": {
    "execution": {
     "iopub.execute_input": "2025-07-06T05:12:20.486271Z",
     "iopub.status.busy": "2025-07-06T05:12:20.485308Z",
     "iopub.status.idle": "2025-07-06T05:12:20.493352Z",
     "shell.execute_reply": "2025-07-06T05:12:20.491899Z",
     "shell.execute_reply.started": "2025-07-06T05:12:20.486204Z"
    }
   },
   "outputs": [],
   "source": [
    "# Spatial clusters are defined by Cellcharter (  1.ST_cluster.ipynb"
   ]
  },
  {
   "cell_type": "code",
   "execution_count": 4,
   "id": "03d45ea1-0e5b-41b8-97c8-f749228b48af",
   "metadata": {
    "execution": {
     "iopub.execute_input": "2025-01-04T08:23:23.726488Z",
     "iopub.status.busy": "2025-01-04T08:23:23.726315Z",
     "iopub.status.idle": "2025-01-04T08:41:56.799945Z",
     "shell.execute_reply": "2025-01-04T08:41:56.798896Z",
     "shell.execute_reply.started": "2025-01-04T08:23:23.726470Z"
    }
   },
   "outputs": [
    {
     "name": "stdout",
     "output_type": "stream",
     "text": [
      "P0411_CC\n",
      "P0411_LM\n",
      "P0516_CC\n",
      "P0516_LM\n",
      "P0608_CC\n"
     ]
    },
    {
     "name": "stderr",
     "output_type": "stream",
     "text": [
      "IOStream.flush timed out\n"
     ]
    },
    {
     "name": "stdout",
     "output_type": "stream",
     "text": [
      "P0608_LM\n",
      "P0725_CC\n",
      "P0725_LM\n",
      "P0907_CC\n",
      "P0907_LM\n",
      "P0914_CC\n",
      "P0914_LM\n",
      "P1019_CC\n",
      "P1019_LM\n",
      "P1121_CC\n",
      "P1121_LM\n",
      "P1128_CC\n",
      "P1128_LM\n"
     ]
    }
   ],
   "source": [
    "samples = sorted(list(adata.obs['sample'].unique()))\n",
    "neighborsNiche = {}\n",
    "\n",
    "for sample in samples:\n",
    "    print(sample) \n",
    "    ad1 = adata[adata.obs['sample']==sample].copy()\n",
    "\n",
    "    center_ad = ad1[ad1.obs['spatial_cluster'].isin(['C6: Tumor (Biogenesis)', 'C5: Tumor'])] \n",
    "    locus_center = center_ad.obsm['spatial'] \n",
    "    locus_allcell = ad1.obsm['spatial']  \n",
    "    from sklearn.neighbors import NearestNeighbors\n",
    "    nn = NearestNeighbors(n_neighbors=300, algorithm='auto', metric = 'euclidean')\n",
    "    nn.fit(locus_allcell)\n",
    "    distances, indices = nn.kneighbors(locus_center )\n",
    "    distances = distances*0.5 \n",
    "\n",
    "    ad1_iloc = {i:ad1.obs.index[i] for i in range(ad1.n_obs)}\n",
    "    df = pd.DataFrame(np.where(distances > 100, None, indices)) \n",
    "    df['centerCellIdx'] = np.array(center_ad.obs.index) \n",
    "    df = df[df.isna().sum(axis=1) < 5] \n",
    "    df = df.melt(id_vars='centerCellIdx') \n",
    "    df = df.dropna() \n",
    "    df.columns = ['centerCellIdx', 'NeighIndex','ad1ObsIndex'] \n",
    "    df['ad1ObsIndice'] = np.array(df['ad1ObsIndex'].map(ad1_iloc)) \n",
    "\n",
    "    neighborsNiche[sample] = df\n"
   ]
  },
  {
   "cell_type": "code",
   "execution_count": 5,
   "id": "00ac5eea-b511-441a-9194-81939c5259d7",
   "metadata": {
    "execution": {
     "iopub.execute_input": "2025-01-04T08:41:56.801654Z",
     "iopub.status.busy": "2025-01-04T08:41:56.801208Z",
     "iopub.status.idle": "2025-01-04T08:42:35.961365Z",
     "shell.execute_reply": "2025-01-04T08:42:35.960389Z",
     "shell.execute_reply.started": "2025-01-04T08:41:56.801627Z"
    }
   },
   "outputs": [],
   "source": [
    "neighborsNiche = pd.concat(neighborsNiche, ignore_index=True )\n"
   ]
  },
  {
   "cell_type": "code",
   "execution_count": 6,
   "id": "c8c488e8-0640-4eb7-a24d-8b82afbefacf",
   "metadata": {
    "execution": {
     "iopub.execute_input": "2025-01-04T08:42:35.962713Z",
     "iopub.status.busy": "2025-01-04T08:42:35.962496Z",
     "iopub.status.idle": "2025-01-04T08:44:39.746305Z",
     "shell.execute_reply": "2025-01-04T08:44:39.745060Z",
     "shell.execute_reply.started": "2025-01-04T08:42:35.962693Z"
    }
   },
   "outputs": [],
   "source": [
    "adata.obs['tissue_region'] = 'Adjacent-tissue'\n",
    "adata.obs.loc[adata.obs.index.isin(set(neighborsNiche['ad1ObsIndice'])), 'tissue_region'] = 'Peri_tumor'\n",
    "adata.obs.loc[adata.obs['spatial_cluster'].isin(['C6: Tumor (Biogenesis)', 'C5: Tumor']), 'tissue_region'] = 'Intra_tumor'\n"
   ]
  },
  {
   "cell_type": "code",
   "execution_count": null,
   "id": "539e6d1e-7bae-4b35-923f-51fc44fab97f",
   "metadata": {},
   "outputs": [],
   "source": []
  },
  {
   "cell_type": "code",
   "execution_count": null,
   "id": "f848ed5e-297d-4c99-b3fa-23e2acf55c94",
   "metadata": {},
   "outputs": [],
   "source": []
  },
  {
   "cell_type": "code",
   "execution_count": null,
   "id": "5cf140f2-7400-40db-944f-dd0075597316",
   "metadata": {},
   "outputs": [],
   "source": []
  },
  {
   "cell_type": "code",
   "execution_count": null,
   "id": "1f3f6016-1c9f-4963-911d-e8df990fd283",
   "metadata": {},
   "outputs": [],
   "source": []
  },
  {
   "cell_type": "code",
   "execution_count": null,
   "id": "e093eee4-9c0b-4bec-931d-72d42e341e51",
   "metadata": {},
   "outputs": [],
   "source": []
  },
  {
   "cell_type": "code",
   "execution_count": null,
   "id": "13b654e9-c0ac-471b-a2c5-df67ce051201",
   "metadata": {},
   "outputs": [],
   "source": []
  },
  {
   "cell_type": "code",
   "execution_count": null,
   "id": "25372eab-568c-4f29-ab16-82b5b11cbb5b",
   "metadata": {},
   "outputs": [],
   "source": []
  },
  {
   "cell_type": "code",
   "execution_count": null,
   "id": "0275c7e4-0b6a-4154-926c-4d222b05123a",
   "metadata": {},
   "outputs": [],
   "source": []
  },
  {
   "cell_type": "code",
   "execution_count": null,
   "id": "2684f64e-9565-4982-9689-b8c3b4687241",
   "metadata": {},
   "outputs": [],
   "source": []
  },
  {
   "cell_type": "code",
   "execution_count": null,
   "id": "490566f6-603e-4294-af8b-2a969ab81053",
   "metadata": {},
   "outputs": [],
   "source": []
  },
  {
   "cell_type": "code",
   "execution_count": null,
   "id": "0080c5a9-77ee-4ec6-ab42-59ec47a89160",
   "metadata": {},
   "outputs": [],
   "source": []
  }
 ],
 "metadata": {
  "kernelspec": {
   "display_name": "py38",
   "language": "python",
   "name": "py38"
  },
  "language_info": {
   "codemirror_mode": {
    "name": "ipython",
    "version": 3
   },
   "file_extension": ".py",
   "mimetype": "text/x-python",
   "name": "python",
   "nbconvert_exporter": "python",
   "pygments_lexer": "ipython3",
   "version": "3.8.17"
  }
 },
 "nbformat": 4,
 "nbformat_minor": 5
}
