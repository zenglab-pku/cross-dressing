{
 "cells": [
  {
   "cell_type": "code",
   "execution_count": null,
   "id": "9a475d14-fab1-4e42-b93d-25659006212d",
   "metadata": {
    "scrolled": true
   },
   "outputs": [],
   "source": [
    "import matplotlib.pyplot as plt\n",
    "import pandas as pd\n",
    "import scanpy as sc\n",
    "import scvi\n",
    "import numpy as np\n",
    "import os\n",
    "import squidpy as sq\n",
    "import gseapy as gp\n",
    "import anndata as ad\n",
    "import gseapy as gp \n",
    "import cellcharter as cc \n",
    "import gseapy as gp \n",
    "import matplotlib.colors as mcolors\n",
    "from gseapy.plot import barplot, dotplot\n"
   ]
  },
  {
   "cell_type": "code",
   "execution_count": null,
   "id": "200b7707-6619-4dca-b7fa-40885f42b1e7",
   "metadata": {},
   "outputs": [],
   "source": []
  },
  {
   "cell_type": "markdown",
   "id": "e034137b-dea1-4be2-b0ef-badfe35c2023",
   "metadata": {},
   "source": [
    "## Import files"
   ]
  },
  {
   "cell_type": "code",
   "execution_count": null,
   "id": "c4afb108-f398-46a5-a211-b4da3bc00fda",
   "metadata": {},
   "outputs": [],
   "source": [
    "#### Please complete input PATH ####\n",
    "\n",
    "samples = ['', '', '']\n",
    "\n",
    "ad_dict = {}\n",
    "for sample in samples:\n",
    "    print(sample)\n",
    "    adata = sc.read_h5ad('./'+ sample + '.h5ad')\n",
    "    ad_dict[sample] = adata.copy()\n"
   ]
  },
  {
   "cell_type": "code",
   "execution_count": null,
   "id": "e40f9fc0-b501-44bd-ae9e-674bee45943b",
   "metadata": {},
   "outputs": [],
   "source": []
  },
  {
   "cell_type": "markdown",
   "id": "56c049f7-14f9-42e9-8769-9bf00d449e24",
   "metadata": {},
   "source": [
    "## Cellcharter"
   ]
  },
  {
   "cell_type": "code",
   "execution_count": null,
   "id": "85b7fc41-acb2-4eed-a90a-0f9f7c03dd45",
   "metadata": {},
   "outputs": [],
   "source": [
    "# refer from https://cellcharter.readthedocs.io/en/stable/"
   ]
  },
  {
   "cell_type": "code",
   "execution_count": null,
   "id": "7cdc05fb-9c1a-4de9-8b0a-a4e8af5f696f",
   "metadata": {},
   "outputs": [],
   "source": [
    "adata = ad.concat(list(ad_dict.values()) , axis=0, merge='same', pairwise=True, index_unique='_')\n",
    "adata.obs['sample'] = pd.Categorical(adata.obs['sample'])\n",
    "adata.uns['spatial_fov'] = {s: {} for s in adata.obs['sample'].unique()}"
   ]
  },
  {
   "cell_type": "code",
   "execution_count": null,
   "id": "38f40705-aaf1-434f-bcbc-246cc777f00a",
   "metadata": {},
   "outputs": [],
   "source": [
    "scvi.settings.seed = 12345\n",
    "scvi.model.SCVI.setup_anndata(\n",
    "    adata, \n",
    "    batch_key='sample'\n",
    ")\n",
    "\n",
    "model = scvi.model.SCVI(adata)\n"
   ]
  },
  {
   "cell_type": "code",
   "execution_count": null,
   "id": "4707d949-b854-4acc-bc31-623d3ca00934",
   "metadata": {},
   "outputs": [],
   "source": [
    "model.train(early_stopping=True, enable_progress_bar=True)\n"
   ]
  },
  {
   "cell_type": "code",
   "execution_count": null,
   "id": "babfc983-9fd9-4700-876e-9801bdbd5052",
   "metadata": {},
   "outputs": [],
   "source": [
    "adata.obsm['X_scVI'] = model.get_latent_representation(adata).astype(np.float32)"
   ]
  },
  {
   "cell_type": "code",
   "execution_count": null,
   "id": "3cf74a26-1ec1-4878-9aed-c1d8d4a0024b",
   "metadata": {},
   "outputs": [],
   "source": [
    "sq.gr.spatial_neighbors(adata, library_key='sample', coord_type='generic', delaunay=True, spatial_key='spatial')\n",
    "sq.gr.spatial_neighbors(adata, library_key='sample', coord_type='generic', delaunay=True, spatial_key='spatial')\n"
   ]
  },
  {
   "cell_type": "code",
   "execution_count": null,
   "id": "eb017735-1fc1-4b80-91d8-f2280f703dbf",
   "metadata": {},
   "outputs": [],
   "source": [
    "cc.gr.remove_long_links(adata)\n"
   ]
  },
  {
   "cell_type": "code",
   "execution_count": null,
   "id": "1dd68f96-4829-4d11-9dc1-357843e7ea71",
   "metadata": {},
   "outputs": [],
   "source": [
    "cc.gr.aggregate_neighbors(adata, n_layers=3, use_rep='X_scVI', out_key='X_cellcharter', sample_key='sample')\n"
   ]
  },
  {
   "cell_type": "code",
   "execution_count": null,
   "id": "febe28f6-8f5e-4f24-a28d-124787c1729c",
   "metadata": {},
   "outputs": [],
   "source": [
    "# autok = cc.tl.ClusterAutoK(\n",
    "#     n_clusters=(1,18), \n",
    "#     max_runs=10, \n",
    "#     model_params=dict(\n",
    "#         random_state=12345,\n",
    "#         trainer_params=dict(accelerator='gpu', devices=1)\n",
    "#     ))\n",
    "# autok.fit(adata, use_rep='X_cellcharter')\n",
    "# cc.pl.autok_stability(autok) \n",
    "# adata.obs['spatial_cluster'] = autok.predict(adata, use_rep='X_cellcharter') \n"
   ]
  },
  {
   "cell_type": "code",
   "execution_count": null,
   "id": "2042181c-02a8-406d-8a18-dcc776c3f46e",
   "metadata": {},
   "outputs": [],
   "source": [
    "# After autoK, we choose the cluster = 12\n",
    "\n",
    "gmm = cc.tl.Cluster(n_clusters=12, random_state=12345) \n",
    "gmm.fit(adata, use_rep='X_cellcharter')\n",
    "adata.obs['spatial_cluster'] = gmm.predict(adata, use_rep='X_cellcharter')\n",
    "\n"
   ]
  },
  {
   "cell_type": "code",
   "execution_count": null,
   "id": "51e402a7-1cff-41a6-a0de-619e3db0cdb2",
   "metadata": {},
   "outputs": [],
   "source": []
  },
  {
   "cell_type": "code",
   "execution_count": null,
   "id": "5b13f63f-3769-4ead-bd6c-4c48c8b19021",
   "metadata": {},
   "outputs": [],
   "source": [
    "### Please complete output PATH ###\n",
    "adata.write_h5ad('./output.h5ad')"
   ]
  },
  {
   "cell_type": "code",
   "execution_count": null,
   "id": "5a16340e-52d4-4326-b9e8-84b0fe6b48dc",
   "metadata": {},
   "outputs": [],
   "source": []
  },
  {
   "cell_type": "code",
   "execution_count": null,
   "id": "320b2f9b-cd09-497d-9914-068bfe7a9ae7",
   "metadata": {},
   "outputs": [],
   "source": []
  },
  {
   "cell_type": "code",
   "execution_count": null,
   "id": "63308b3b-33e9-45f1-b505-9ff6de9d4735",
   "metadata": {},
   "outputs": [],
   "source": []
  },
  {
   "cell_type": "code",
   "execution_count": null,
   "id": "fb0bdef7-5f4a-4a50-9fde-b8bea0ac6d97",
   "metadata": {},
   "outputs": [],
   "source": []
  },
  {
   "cell_type": "code",
   "execution_count": null,
   "id": "4506a129-71fb-468e-b4a3-138384a81937",
   "metadata": {},
   "outputs": [],
   "source": []
  },
  {
   "cell_type": "code",
   "execution_count": null,
   "id": "28e4da9a-8fd2-47e6-9882-b3320e71c09d",
   "metadata": {},
   "outputs": [],
   "source": []
  }
 ],
 "metadata": {
  "kernelspec": {
   "display_name": "py38",
   "language": "python",
   "name": "py38"
  },
  "language_info": {
   "codemirror_mode": {
    "name": "ipython",
    "version": 3
   },
   "file_extension": ".py",
   "mimetype": "text/x-python",
   "name": "python",
   "nbconvert_exporter": "python",
   "pygments_lexer": "ipython3",
   "version": "3.8.17"
  }
 },
 "nbformat": 4,
 "nbformat_minor": 5
}
